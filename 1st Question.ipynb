{
  "nbformat": 4,
  "nbformat_minor": 0,
  "metadata": {
    "colab": {
      "provenance": []
    },
    "kernelspec": {
      "name": "python3",
      "display_name": "Python 3"
    },
    "language_info": {
      "name": "python"
    }
  },
  "cells": [
    {
      "cell_type": "code",
      "execution_count": 1,
      "metadata": {
        "colab": {
          "base_uri": "https://localhost:8080/"
        },
        "id": "DdyKcyY-PNP_",
        "outputId": "f8a16b4a-4ceb-480f-cf70-5293acf1ae96"
      },
      "outputs": [
        {
          "output_type": "stream",
          "name": "stdout",
          "text": [
            "Enter a string: dsdsdsd bgbgbg sam sam sam sam sam sam sam sam sam sam sam sam sam sam sam sam sam sam sam sam sam sam sam sam sam sam msam \n",
            "Length of the highest-frequency word: 3\n"
          ]
        }
      ],
      "source": [
        "def count_word_frequency(string):\n",
        "    # Split the string into words\n",
        "    words = string.split()\n",
        "\n",
        "    # Create a dictionary to store the word frequencies\n",
        "    word_frequency = {}\n",
        "\n",
        "    # Count the frequency of each word\n",
        "    for word in words:\n",
        "        # Remove any repeated characters\n",
        "        word = ''.join(set(word))\n",
        "\n",
        "        # Update the frequency of the word\n",
        "        if word in word_frequency:\n",
        "            word_frequency[word] += 1\n",
        "        else:\n",
        "            word_frequency[word] = 1\n",
        "\n",
        "    # Find the highest frequency\n",
        "    max_frequency = 0\n",
        "    for frequency in word_frequency.values():\n",
        "        if frequency > max_frequency:\n",
        "            max_frequency = frequency\n",
        "\n",
        "    # Find the length of the highest-frequency word\n",
        "    highest_frequency_word_length = 0\n",
        "    for word, frequency in word_frequency.items():\n",
        "        if frequency == max_frequency:\n",
        "            word_length = len(word)\n",
        "            if word_length > highest_frequency_word_length:\n",
        "                highest_frequency_word_length = word_length\n",
        "\n",
        "    return highest_frequency_word_length\n",
        "\n",
        "\n",
        "# Test the program\n",
        "input_string = input(\"Enter a string: \")\n",
        "result = count_word_frequency(input_string)\n",
        "print(\"Length of the highest-frequency word:\", result)\n"
      ]
    }
  ]
}