{
  "nbformat": 4,
  "nbformat_minor": 0,
  "metadata": {
    "colab": {
      "provenance": []
    },
    "kernelspec": {
      "name": "python3",
      "display_name": "Python 3"
    },
    "language_info": {
      "name": "python"
    }
  },
  "cells": [
    {
      "cell_type": "code",
      "execution_count": 1,
      "metadata": {
        "colab": {
          "base_uri": "https://localhost:8080/"
        },
        "id": "xU-5LQNQSO_0",
        "outputId": "2d64cf76-ebfa-4fa5-8082-51fdb62a84df"
      },
      "outputs": [
        {
          "output_type": "stream",
          "name": "stdout",
          "text": [
            "YES\n",
            "YES\n"
          ]
        }
      ],
      "source": [
        "def is_valid_string(string):\n",
        "    # Count the frequency of each character in the string\n",
        "    char_frequency = {}\n",
        "    for char in string:\n",
        "        if char in char_frequency:\n",
        "            char_frequency[char] += 1\n",
        "        else:\n",
        "            char_frequency[char] = 1\n",
        "\n",
        "    # Count the frequency of frequencies\n",
        "    freq_frequency = {}\n",
        "    for freq in char_frequency.values():\n",
        "        if freq in freq_frequency:\n",
        "            freq_frequency[freq] += 1\n",
        "        else:\n",
        "            freq_frequency[freq] = 1\n",
        "\n",
        "    # If there is only one frequency, the string is valid\n",
        "    if len(freq_frequency) == 1:\n",
        "        return \"YES\"\n",
        "\n",
        "    # If there are more than two frequencies, the string is not valid\n",
        "    if len(freq_frequency) > 2:\n",
        "        return \"NO\"\n",
        "\n",
        "    # If there are two frequencies, check if removing one character can make the string valid\n",
        "    freq_list = list(freq_frequency.items())\n",
        "    freq1, count1 = freq_list[0]\n",
        "    freq2, count2 = freq_list[1]\n",
        "\n",
        "    if (count1 == 1 and freq1 == 1) or (count2 == 1 and freq2 == 1):\n",
        "        return \"YES\"\n",
        "\n",
        "    if abs(freq1 - freq2) == 1 and (count1 == 1 or count2 == 1):\n",
        "        return \"YES\"\n",
        "\n",
        "    return \"NO\"\n",
        "\n",
        "\n",
        "# Test Case 1\n",
        "input_string = \"aab\"\n",
        "result = is_valid_string(input_string)\n",
        "print(result)  # Output: YES\n",
        "\n",
        "# Test Case 2\n",
        "input_string = \"aabbccdd\"\n",
        "result = is_valid_string(input_string)\n",
        "print(result)  # Output: NO\n"
      ]
    },
    {
      "cell_type": "code",
      "source": [],
      "metadata": {
        "id": "PH6s_hhzSgaU"
      },
      "execution_count": null,
      "outputs": []
    }
  ]
}