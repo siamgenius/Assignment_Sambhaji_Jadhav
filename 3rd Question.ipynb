{
  "nbformat": 4,
  "nbformat_minor": 0,
  "metadata": {
    "colab": {
      "provenance": []
    },
    "kernelspec": {
      "name": "python3",
      "display_name": "Python 3"
    },
    "language_info": {
      "name": "python"
    }
  },
  "cells": [
    {
      "cell_type": "code",
      "execution_count": 1,
      "metadata": {
        "colab": {
          "base_uri": "https://localhost:8080/"
        },
        "id": "FCGWpXFETvMk",
        "outputId": "768aa8f9-d0b3-4e77-d4a0-e8ba520f5768"
      },
      "outputs": [
        {
          "output_type": "stream",
          "name": "stdout",
          "text": [
            "Data has been converted and saved to pokemon_data.xlsx\n"
          ]
        }
      ],
      "source": [
        "import requests\n",
        "import pandas as pd\n",
        "\n",
        "# Download the data from the provided link\n",
        "url = \"https://raw.githubusercontent.com/Biuni/PokemonGO-Pokedex/master/pokedex.json\"\n",
        "response = requests.get(url)\n",
        "data = response.json()\n",
        "\n",
        "# Extract the relevant data attributes\n",
        "pokemon_data = data[\"pokemon\"]\n",
        "\n",
        "# Convert the data into a pandas DataFrame\n",
        "df = pd.DataFrame(pokemon_data)\n",
        "\n",
        "# Specify the desired column order\n",
        "column_order = [\n",
        "    \"id\",\n",
        "    \"num\",\n",
        "    \"name\",\n",
        "    \"img\",\n",
        "    \"type\",\n",
        "    \"height\",\n",
        "    \"weight\",\n",
        "    \"candy\",\n",
        "    \"candy_count\",\n",
        "    \"egg\",\n",
        "    \"spawn_chance\",\n",
        "    \"avg_spawns\",\n",
        "    \"spawn_time\",\n",
        "    \"multipliers\",\n",
        "    \"weaknesses\",\n",
        "    \"next_evolution\",\n",
        "    \"prev_evolution\"\n",
        "]\n",
        "\n",
        "# Rearrange the columns according to the specified order\n",
        "df = df[column_order]\n",
        "\n",
        "# Export the DataFrame to an Excel file\n",
        "output_file = \"pokemon_data.xlsx\"\n",
        "df.to_excel(output_file, index=False)\n",
        "\n",
        "print(\"Data has been converted and saved to\", output_file)\n"
      ]
    }
  ]
}